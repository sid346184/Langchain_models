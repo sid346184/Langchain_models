{
 "cells": [
  {
   "cell_type": "code",
   "execution_count": null,
   "id": "da1c4ae9",
   "metadata": {},
   "outputs": [
    {
     "name": "stdout",
     "output_type": "stream",
     "text": [
      "{'sentiment': 'negative', 'summary': \"The hardware is great, but the software feels bloated. There are too many pre-installed apps that I can't remove. Also, the UI is not looking good, can you fix it?\"}\n"
     ]
    }
   ],
   "source": [
    "# WITH STRUCTURED OUTPUT and with classes for structured output\n",
    "from langchain_groq import ChatGroq\n",
    "from typing import TypedDict               ## Using Typedict first \n",
    "from dotenv import load_dotenv\n",
    "load_dotenv()\n",
    "\n",
    "llm=ChatGroq(\n",
    "    model=\"deepseek-r1-distill-llama-70b\",\n",
    "    temperature=1.5,\n",
    "    max_tokens=None,\n",
    "    reasoning_format=\"parsed\",\n",
    "    timeout=None,\n",
    "    max_retries=2,\n",
    ")\n",
    "# we dont need to write the prompt that you are and AI agent etc. etc., it is done by itself using TypedDict\n",
    "class Review(TypedDict):\n",
    "    summary:str\n",
    "    sentiment:str\n",
    "\n",
    "structured_llm=llm.with_structured_output(Review)\n",
    "\n",
    "result=structured_llm.invoke(\"\"\" The hardware is great, but the software feels bloated.\n",
    "There are roo many pre-installed apps that I can't remove\n",
    "Also the UI is not looking good, can you fix it\"\"\")\n",
    "\n",
    "print(result)"
   ]
  },
  {
   "cell_type": "code",
   "execution_count": 3,
   "id": "f7a29d4a",
   "metadata": {},
   "outputs": [
    {
     "name": "stdout",
     "output_type": "stream",
     "text": [
      "{'sentiment': 'bad', 'summary': 'The user praises the hardware but is dissatisfied with the bloated software, unable to remove pre-installed apps, and dislikes the UI.'}\n"
     ]
    }
   ],
   "source": [
    "# WITH STRUCTURED OUTPUT and with classes for structured output\n",
    "from langchain_groq import ChatGroq\n",
    "from typing import TypedDict,Annotated               ## Using Typedict first \n",
    "from dotenv import load_dotenv\n",
    "load_dotenv()\n",
    "\n",
    "llm=ChatGroq(\n",
    "    model=\"deepseek-r1-distill-llama-70b\",\n",
    "    temperature=1.5,\n",
    "    max_tokens=None,\n",
    "    reasoning_format=\"parsed\",\n",
    "    timeout=None,\n",
    "    max_retries=2,\n",
    ")\n",
    "# Using Annotated, we can define what we exactly need, because we dont want our llm to hallucinate or give wrong outputs\n",
    "\n",
    "class Review(TypedDict):\n",
    "    summary:Annotated[str,\"A brief summary of the review\"]\n",
    "    sentiment:Annotated[str,\"Sentiment of the review, either good, bad or neutral\"]\n",
    "\n",
    "structured_llm=llm.with_structured_output(Review)\n",
    "\n",
    "result=structured_llm.invoke(\"\"\" The hardware is great, but the software feels bloated.\n",
    "There are roo many pre-installed apps that I can't remove\n",
    "Also the UI is not looking good, can you fix it\"\"\")\n",
    "\n",
    "print(result)"
   ]
  }
 ],
 "metadata": {
  "kernelspec": {
   "display_name": "venv (3.13.5)",
   "language": "python",
   "name": "python3"
  },
  "language_info": {
   "codemirror_mode": {
    "name": "ipython",
    "version": 3
   },
   "file_extension": ".py",
   "mimetype": "text/x-python",
   "name": "python",
   "nbconvert_exporter": "python",
   "pygments_lexer": "ipython3",
   "version": "3.13.5"
  }
 },
 "nbformat": 4,
 "nbformat_minor": 5
}
