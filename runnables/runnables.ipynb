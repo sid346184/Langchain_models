{
 "cells": [
  {
   "cell_type": "code",
   "execution_count": 81,
   "id": "3a7aa852",
   "metadata": {},
   "outputs": [],
   "source": [
    "from abc import ABC, abstractmethod"
   ]
  },
  {
   "cell_type": "code",
   "execution_count": 82,
   "id": "273f3ca8",
   "metadata": {},
   "outputs": [],
   "source": [
    "class Runnable(ABC):\n",
    "    \n",
    "    @abstractmethod\n",
    "    def invoke(input_data):\n",
    "        pass\n",
    "    "
   ]
  },
  {
   "cell_type": "code",
   "execution_count": 83,
   "id": "70b766c3",
   "metadata": {},
   "outputs": [],
   "source": [
    "import random\n",
    "class DummyLLM(Runnable):\n",
    "    def __init__(self):\n",
    "        print(\"LLM created\")\n",
    "\n",
    "    def invoke(self,prompt):\n",
    "        response_list=[\n",
    "            \"Delhi is the capital\",\n",
    "            \"IPL is a game\",\n",
    "            \"AI stands for Artificial Intelligence\"\n",
    "        ]\n",
    "        return {'response':random.choice(response_list)}\n",
    "\n",
    "    def predict(self,prompt):\n",
    "        response_list=[\n",
    "            \"Delhi is the capital\",\n",
    "            \"IPL is a game\",\n",
    "            \"AI stands for Artificial Intelligence\"\n",
    "        ]\n",
    "        return {'response':random.choice(response_list)}"
   ]
  },
  {
   "cell_type": "code",
   "execution_count": 84,
   "id": "b665daa1",
   "metadata": {},
   "outputs": [
    {
     "name": "stdout",
     "output_type": "stream",
     "text": [
      "LLM created\n"
     ]
    }
   ],
   "source": [
    "llm = DummyLLM()"
   ]
  },
  {
   "cell_type": "code",
   "execution_count": 85,
   "id": "03ab17d0",
   "metadata": {},
   "outputs": [],
   "source": [
    "#llm.predict(\"what is the time\")"
   ]
  },
  {
   "cell_type": "code",
   "execution_count": 86,
   "id": "079296ab",
   "metadata": {},
   "outputs": [],
   "source": [
    "class DummyPromptTemplate:\n",
    "    def __init__(self,template,input_vars):\n",
    "        self.template=template\n",
    "        self.input_vars=input_vars\n",
    "    \n",
    "    def format(self, input_dict):\n",
    "        return self.template.format(**input_dict)"
   ]
  },
  {
   "cell_type": "code",
   "execution_count": 87,
   "id": "ac2aa908",
   "metadata": {},
   "outputs": [],
   "source": [
    "template = DummyPromptTemplate(\n",
    "    template='Write a poem about {topic}',\n",
    "    input_vars=['topic']\n",
    ")"
   ]
  },
  {
   "cell_type": "code",
   "execution_count": 88,
   "id": "802faca3",
   "metadata": {},
   "outputs": [
    {
     "data": {
      "text/plain": [
       "'Write a poem about India'"
      ]
     },
     "execution_count": 88,
     "metadata": {},
     "output_type": "execute_result"
    }
   ],
   "source": [
    "template.format({'topic':'India'})"
   ]
  },
  {
   "cell_type": "code",
   "execution_count": 89,
   "id": "56e1182a",
   "metadata": {},
   "outputs": [],
   "source": [
    "class DummyllmChain:\n",
    "    def __init__(self,llm,prompt):\n",
    "        self.llm=llm\n",
    "        self.prompt=prompt\n",
    "\n",
    "    def run(self,input_dict):\n",
    "        final_prompt=self.prompt.format(input_dict)\n",
    "        result=self.llm.predict(final_prompt)\n",
    "\n",
    "        return result['response']\n"
   ]
  },
  {
   "cell_type": "code",
   "execution_count": 90,
   "id": "aaa748c7",
   "metadata": {},
   "outputs": [],
   "source": [
    "template = DummyPromptTemplate(\n",
    "    template='Write a poem about {topic}',\n",
    "    input_vars=['topic']\n",
    ")"
   ]
  },
  {
   "cell_type": "code",
   "execution_count": 91,
   "id": "233d6b25",
   "metadata": {},
   "outputs": [
    {
     "name": "stdout",
     "output_type": "stream",
     "text": [
      "LLM created\n"
     ]
    }
   ],
   "source": [
    "llm =DummyLLM()"
   ]
  },
  {
   "cell_type": "code",
   "execution_count": 92,
   "id": "b2ca954d",
   "metadata": {},
   "outputs": [],
   "source": [
    "chain=DummyllmChain(llm=llm,prompt=template)"
   ]
  },
  {
   "cell_type": "code",
   "execution_count": 93,
   "id": "1d743a48",
   "metadata": {},
   "outputs": [
    {
     "data": {
      "text/plain": [
       "'IPL is a game'"
      ]
     },
     "execution_count": 93,
     "metadata": {},
     "output_type": "execute_result"
    }
   ],
   "source": [
    "chain.run({'topic':'India'})"
   ]
  },
  {
   "cell_type": "code",
   "execution_count": 94,
   "id": "2dcae1f6",
   "metadata": {},
   "outputs": [],
   "source": [
    "# This was the problem that the langchain team faced i.e. the custom chains that they decided to build for every purpose were not flexible and hence it started to have a chain for every functionality"
   ]
  },
  {
   "cell_type": "code",
   "execution_count": 95,
   "id": "7c288003",
   "metadata": {},
   "outputs": [],
   "source": [
    "# Now let's standardize these classes"
   ]
  },
  {
   "cell_type": "code",
   "execution_count": 96,
   "id": "a0fbaa66",
   "metadata": {},
   "outputs": [],
   "source": [
    "import random\n",
    "class DummyLLM:\n",
    "    def __init__(self):\n",
    "        print(\"LLM created\")\n",
    "\n",
    "    def predict(self,prompt):\n",
    "        response_list=[\n",
    "            \"Delhi is the capital\",\n",
    "            \"IPL is a game\",\n",
    "            \"AI stands for Artificial Intelligence\"\n",
    "        ]\n",
    "        return {'response':random.choice(response_list)}"
   ]
  },
  {
   "cell_type": "code",
   "execution_count": 97,
   "id": "c2cb90f9",
   "metadata": {},
   "outputs": [],
   "source": [
    "class DummyPromptTemplate:\n",
    "    def __init__(self,template,input_vars):\n",
    "        self.template=template\n",
    "        self.input_vars=input_vars\n",
    "\n",
    "    def invoke(self,input_dict):\n",
    "        return self.template.format(**input_dict)\n",
    "    \n",
    "    def format(self, input_dict):\n",
    "        return self.template.format(**input_dict)"
   ]
  },
  {
   "cell_type": "code",
   "execution_count": 98,
   "id": "cebc3039",
   "metadata": {},
   "outputs": [],
   "source": [
    "class RunnableConnector(Runnable):\n",
    "    def __init__(self,runnable_list):\n",
    "        self.runnable_list=runnable_list\n",
    "    \n",
    "    def invoke(self,input_data):\n",
    "        for runnable in self.runnable_list:\n",
    "            input_data=runnable.invoke(input_data)\n",
    "\n",
    "        return input_data\n",
    "        "
   ]
  },
  {
   "cell_type": "code",
   "execution_count": 99,
   "id": "2ce3b59f",
   "metadata": {},
   "outputs": [],
   "source": [
    "template=DummyPromptTemplate(\n",
    "    template='Write a {length} poem about {topic}',\n",
    "    input_vars=['length','topic']\n",
    ")"
   ]
  },
  {
   "cell_type": "code",
   "execution_count": 100,
   "id": "eca70fa0",
   "metadata": {},
   "outputs": [
    {
     "data": {
      "text/plain": [
       "{'response': 'IPL is a game'}"
      ]
     },
     "execution_count": 100,
     "metadata": {},
     "output_type": "execute_result"
    }
   ],
   "source": [
    "chain=RunnableConnector([template,llm])\n",
    "chain.invoke({'length':'long','topic':'India'})"
   ]
  },
  {
   "cell_type": "code",
   "execution_count": null,
   "id": "5162fb6b",
   "metadata": {},
   "outputs": [],
   "source": []
  }
 ],
 "metadata": {
  "kernelspec": {
   "display_name": "venv (3.13.5)",
   "language": "python",
   "name": "python3"
  },
  "language_info": {
   "codemirror_mode": {
    "name": "ipython",
    "version": 3
   },
   "file_extension": ".py",
   "mimetype": "text/x-python",
   "name": "python",
   "nbconvert_exporter": "python",
   "pygments_lexer": "ipython3",
   "version": "3.13.5"
  }
 },
 "nbformat": 4,
 "nbformat_minor": 5
}
