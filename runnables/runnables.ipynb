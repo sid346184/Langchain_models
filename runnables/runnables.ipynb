{
 "cells": [
  {
   "cell_type": "code",
   "execution_count": 18,
   "id": "70b766c3",
   "metadata": {},
   "outputs": [],
   "source": [
    "import random\n",
    "class DummyLLM:\n",
    "    def __init__(self):\n",
    "        print(\"LLM created\")\n",
    "\n",
    "    def predict(self,prompt):\n",
    "        response_list=[\n",
    "            \"Delhi is the capital\",\n",
    "            \"IPL is a game\",\n",
    "            \"AI stands for Artificial Intelligence\"\n",
    "        ]\n",
    "        return {'response':random.choice(response_list)}"
   ]
  },
  {
   "cell_type": "code",
   "execution_count": 19,
   "id": "b665daa1",
   "metadata": {},
   "outputs": [],
   "source": [
    "#llm = DummyLLM()"
   ]
  },
  {
   "cell_type": "code",
   "execution_count": 20,
   "id": "03ab17d0",
   "metadata": {},
   "outputs": [],
   "source": [
    "#llm.predict(\"what is the time\")"
   ]
  },
  {
   "cell_type": "code",
   "execution_count": 21,
   "id": "079296ab",
   "metadata": {},
   "outputs": [],
   "source": [
    "class DummyPromptTemplate:\n",
    "    def __init__(self,template,input_vars):\n",
    "        self.template=template\n",
    "        self.input_vars=input_vars\n",
    "    \n",
    "    def format(self, input_dict):\n",
    "        return self.template.format(**input_dict)"
   ]
  },
  {
   "cell_type": "code",
   "execution_count": 22,
   "id": "ac2aa908",
   "metadata": {},
   "outputs": [],
   "source": [
    "template = DummyPromptTemplate(\n",
    "    template='Write a poem about {topic}',\n",
    "    input_vars=['topic']\n",
    ")"
   ]
  },
  {
   "cell_type": "code",
   "execution_count": 23,
   "id": "802faca3",
   "metadata": {},
   "outputs": [
    {
     "data": {
      "text/plain": [
       "'Write a poem about India'"
      ]
     },
     "execution_count": 23,
     "metadata": {},
     "output_type": "execute_result"
    }
   ],
   "source": [
    "template.format({'topic':'India'})"
   ]
  },
  {
   "cell_type": "code",
   "execution_count": 33,
   "id": "56e1182a",
   "metadata": {},
   "outputs": [],
   "source": [
    "class DummyllmChain:\n",
    "    def __init__(self,llm,prompt):\n",
    "        self.llm=llm\n",
    "        self.prompt=prompt\n",
    "\n",
    "    def run(self,input_dict):\n",
    "        final_prompt=self.prompt.format(input_dict)\n",
    "        result=self.llm.predict(final_prompt)\n",
    "\n",
    "        return result['response']\n"
   ]
  },
  {
   "cell_type": "code",
   "execution_count": 26,
   "id": "aaa748c7",
   "metadata": {},
   "outputs": [],
   "source": [
    "template = DummyPromptTemplate(\n",
    "    template='Write a poem about {topic}',\n",
    "    input_vars=['topic']\n",
    ")"
   ]
  },
  {
   "cell_type": "code",
   "execution_count": 27,
   "id": "233d6b25",
   "metadata": {},
   "outputs": [
    {
     "name": "stdout",
     "output_type": "stream",
     "text": [
      "LLM created\n"
     ]
    }
   ],
   "source": [
    "llm =DummyLLM()"
   ]
  },
  {
   "cell_type": "code",
   "execution_count": 34,
   "id": "b2ca954d",
   "metadata": {},
   "outputs": [],
   "source": [
    "chain=DummyllmChain(llm=llm,prompt=template)"
   ]
  },
  {
   "cell_type": "code",
   "execution_count": 49,
   "id": "1d743a48",
   "metadata": {},
   "outputs": [
    {
     "data": {
      "text/plain": [
       "'Delhi is the capital'"
      ]
     },
     "execution_count": 49,
     "metadata": {},
     "output_type": "execute_result"
    }
   ],
   "source": [
    "chain.run({'topic':'India'})"
   ]
  },
  {
   "cell_type": "code",
   "execution_count": null,
   "id": "2dcae1f6",
   "metadata": {},
   "outputs": [],
   "source": []
  }
 ],
 "metadata": {
  "kernelspec": {
   "display_name": "venv (3.13.5)",
   "language": "python",
   "name": "python3"
  },
  "language_info": {
   "codemirror_mode": {
    "name": "ipython",
    "version": 3
   },
   "file_extension": ".py",
   "mimetype": "text/x-python",
   "name": "python",
   "nbconvert_exporter": "python",
   "pygments_lexer": "ipython3",
   "version": "3.13.5"
  }
 },
 "nbformat": 4,
 "nbformat_minor": 5
}
